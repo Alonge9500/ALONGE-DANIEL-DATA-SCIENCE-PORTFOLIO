{
  "nbformat": 4,
  "nbformat_minor": 0,
  "metadata": {
    "colab": {
      "name": "Titanic Classification with Logistic Regression.ipynb",
      "provenance": [],
      "collapsed_sections": [],
      "authorship_tag": "ABX9TyMuKrORg4MKwctByWq5Jlno",
      "include_colab_link": true
    },
    "kernelspec": {
      "display_name": "Python 3",
      "name": "python3"
    },
    "language_info": {
      "name": "python"
    }
  },
  "cells": [
    {
      "cell_type": "markdown",
      "metadata": {
        "id": "view-in-github",
        "colab_type": "text"
      },
      "source": [
        "<a href=\"https://colab.research.google.com/github/Alonge9500/DATA-ANALYST-PORTFOLIOO/blob/master/_notebooks/2022-08-24-Titanic-Classification-with-Logistic-Regression.ipynb\" target=\"_parent\"><img src=\"https://colab.research.google.com/assets/colab-badge.svg\" alt=\"Open In Colab\"/></a>"
      ]
    },
    {
      "cell_type": "markdown",
      "source": [
        "## Titanic Data Classification\n",
        "\n",
        "* The goal of the project is to develop a logistic regression model in classifying the survival in the regression model\n",
        "* The data cleaning or other activities are not being focus on in this project the end result is to Produce the model"
      ],
      "metadata": {
        "id": "IXxCKLNVQAyv"
      }
    },
    {
      "cell_type": "code",
      "metadata": {
        "id": "4wpPhcIWTMTk"
      },
      "source": [
        "# Importing The Required Libraries\n",
        "\n",
        "import numpy as np\n",
        "import pandas as pd\n",
        "from sklearn.model_selection import train_test_split\n",
        "from sklearn.linear_model import LogisticRegression\n",
        "import numpy as np"
      ],
      "execution_count": 1,
      "outputs": []
    },
    {
      "cell_type": "code",
      "metadata": {
        "id": "_ZHI6CtwY92s"
      },
      "source": [
        "df = pd.read_csv('https://raw.githubusercontent.com/geodra/Titanic-Dataset/master/data/train.csv') # reading data\n",
        "#Data Cleaning\n",
        "df.dropna(inplace=True)\n",
        "sex = pd.get_dummies(df['Sex'], drop_first=True)\n",
        "embark = pd.get_dummies(df['Embarked'], drop_first = True)\n",
        "pcl = pd.get_dummies(df['Pclass'],drop_first=True)\n",
        "\n",
        "train_data = pd.concat([df,sex,embark,pcl], axis=1)\n",
        "train_data = train_data.drop(['Name','Sex','SibSp','Ticket','Embarked','Cabin'], axis=1)\n",
        "\n",
        "train_data.head()\n",
        "x = train_data.drop(['Survived'],axis=1)\n",
        "y = train_data.pop('Survived')\n",
        "#x = np.array(x).astype(np.float64)\n",
        "x= x[~np.isnan(x)]\n",
        "#y=np.array(y)\n",
        "\n",
        "X_train, X_test, y_train, y_test = train_test_split(x,y,test_size = 0.2)\n"
      ],
      "execution_count": 2,
      "outputs": []
    },
    {
      "cell_type": "code",
      "metadata": {
        "id": "BzcE5S9ob9Rz",
        "colab": {
          "base_uri": "https://localhost:8080/"
        },
        "outputId": "b241082f-cf56-4fea-c9ab-6cf3f2186cf4"
      },
      "source": [
        "print(np.any(np.isnan(X_train)))\n",
        "print(np.any(np.isnan(X_test)))\n",
        "\n"
      ],
      "execution_count": 3,
      "outputs": [
        {
          "output_type": "stream",
          "name": "stdout",
          "text": [
            "False\n",
            "False\n"
          ]
        }
      ]
    },
    {
      "cell_type": "markdown",
      "source": [
        "## Model"
      ],
      "metadata": {
        "id": "h8CzlUZqQn9q"
      }
    },
    {
      "cell_type": "code",
      "metadata": {
        "id": "FJQyHrphZEw-",
        "colab": {
          "base_uri": "https://localhost:8080/"
        },
        "outputId": "944069a5-b239-4b22-d897-2189d2409475"
      },
      "source": [
        "model = LogisticRegression()\n",
        "model.fit(X_train,y_train)"
      ],
      "execution_count": 4,
      "outputs": [
        {
          "output_type": "stream",
          "name": "stderr",
          "text": [
            "/usr/local/lib/python3.7/dist-packages/sklearn/utils/validation.py:1692: FutureWarning: Feature names only support names that are all strings. Got feature names with dtypes: ['int', 'str']. An error will be raised in 1.2.\n",
            "  FutureWarning,\n",
            "/usr/local/lib/python3.7/dist-packages/sklearn/linear_model/_logistic.py:818: ConvergenceWarning: lbfgs failed to converge (status=1):\n",
            "STOP: TOTAL NO. of ITERATIONS REACHED LIMIT.\n",
            "\n",
            "Increase the number of iterations (max_iter) or scale the data as shown in:\n",
            "    https://scikit-learn.org/stable/modules/preprocessing.html\n",
            "Please also refer to the documentation for alternative solver options:\n",
            "    https://scikit-learn.org/stable/modules/linear_model.html#logistic-regression\n",
            "  extra_warning_msg=_LOGISTIC_SOLVER_CONVERGENCE_MSG,\n"
          ]
        },
        {
          "output_type": "execute_result",
          "data": {
            "text/plain": [
              "LogisticRegression()"
            ]
          },
          "metadata": {},
          "execution_count": 4
        }
      ]
    },
    {
      "cell_type": "code",
      "metadata": {
        "id": "N8EaFre6bo5_",
        "colab": {
          "base_uri": "https://localhost:8080/"
        },
        "outputId": "c520cc41-c2a1-44cc-c8f0-0b7ab3a6a556"
      },
      "source": [
        "predictions = model.predict(X_test)\n",
        "\n",
        "from sklearn.metrics import accuracy_score\n",
        "print(\"Accuracy Score\",accuracy_score(y_test,predictions))"
      ],
      "execution_count": 6,
      "outputs": [
        {
          "output_type": "stream",
          "name": "stdout",
          "text": [
            "Accuracy Score 0.6756756756756757\n"
          ]
        },
        {
          "output_type": "stream",
          "name": "stderr",
          "text": [
            "/usr/local/lib/python3.7/dist-packages/sklearn/utils/validation.py:1692: FutureWarning: Feature names only support names that are all strings. Got feature names with dtypes: ['int', 'str']. An error will be raised in 1.2.\n",
            "  FutureWarning,\n"
          ]
        }
      ]
    },
    {
      "cell_type": "markdown",
      "source": [
        "## Conclusion \n",
        "\n",
        "* The above Logistic regression model produce 67% accuracy in predictin the survival of the titanic dataset"
      ],
      "metadata": {
        "id": "5GV3RS9aPwtk"
      }
    },
    {
      "cell_type": "code",
      "source": [
        ""
      ],
      "metadata": {
        "id": "ENNOWgQEPpG-"
      },
      "execution_count": null,
      "outputs": []
    },
    {
      "cell_type": "markdown",
      "source": [
        ""
      ],
      "metadata": {
        "id": "4t774cStP_Un"
      }
    }
  ]
}